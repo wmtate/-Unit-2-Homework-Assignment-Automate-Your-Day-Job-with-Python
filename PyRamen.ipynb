{
 "cells": [
  {
   "cell_type": "code",
   "execution_count": 8,
   "metadata": {},
   "outputs": [],
   "source": [
    "import csv\n",
    "from pathlib import Path"
   ]
  },
  {
   "cell_type": "code",
   "execution_count": 9,
   "metadata": {},
   "outputs": [],
   "source": [
    "# csv file name \n",
    "menu_filepath = Path('menu_data.csv') \n",
    "sales_filepath = Path('sales_data.csv')"
   ]
  },
  {
   "cell_type": "code",
   "execution_count": 10,
   "metadata": {},
   "outputs": [],
   "source": [
    "# Initilize needed variables, dict or lists.\n",
    "header = []\n",
    "menu_data = {}\n",
    "sales_data = []"
   ]
  },
  {
   "cell_type": "code",
   "execution_count": 14,
   "metadata": {},
   "outputs": [],
   "source": [
    "with open(\"menu_data.csv\", 'r') as csvfile:\n",
    "    \n",
    "# creating a csv reader object \n",
    "    csvreader = csv.reader(csvfile) \n",
    "    header = next(csvreader) \n",
    "    for row in csvreader: \n",
    "        menu_data[row[0]] = [row[1], row[2], row[3],row[4]]"
   ]
  },
  {
   "cell_type": "code",
   "execution_count": 15,
   "metadata": {},
   "outputs": [],
   "source": [
    "with open(\"sales_data.csv\", 'r') as csvfile:\n",
    "    \n",
    "# creating a csv reader object \n",
    "    csvreader = csv.reader(csvfile) \n",
    "    header = next(csvreader) \n",
    "    for row in csvreader: \n",
    "        sales_data.append([row[0], row[1], row[2], row[3], row[4]])"
   ]
  },
  {
   "cell_type": "code",
   "execution_count": 18,
   "metadata": {},
   "outputs": [
    {
     "name": "stdout",
     "output_type": "stream",
     "text": [
      "spicy miso ramen : {'01-count': 9238, '02-revenue': 110856.0, '03-cogs': 46190.0, '04-profit': 118538.0}\n",
      "tori paitan ramen : {'01-count': 9156, '02-revenue': 119028.0, '03-cogs': 54936.0, '04-profit': 113988.0}\n",
      "truffle butter ramen : {'01-count': 8982, '02-revenue': 125748.0, '03-cogs': 62874.0, '04-profit': 111510.0}\n",
      "tonkotsu ramen : {'01-count': 9288, '02-revenue': 120744.0, '03-cogs': 55728.0, '04-profit': 119728.0}\n",
      "vegetarian spicy miso : {'01-count': 9216, '02-revenue': 110592.0, '03-cogs': 46080.0, '04-profit': 117460.0}\n",
      "shio ramen : {'01-count': 9180, '02-revenue': 100980.0, '03-cogs': 45900.0, '04-profit': 100824.0}\n",
      "miso crab ramen : {'01-count': 8890, '02-revenue': 106680.0, '03-cogs': 53340.0, '04-profit': 97260.0}\n",
      "nagomi shoyu : {'01-count': 9132, '02-revenue': 100452.0, '03-cogs': 45660.0, '04-profit': 102216.0}\n",
      "soft-shell miso crab ramen : {'01-count': 9130, '02-revenue': 127820.0, '03-cogs': 63910.0, '04-profit': 116158.0}\n",
      "burnt garlic tonkotsu ramen : {'01-count': 9070, '02-revenue': 126980.0, '03-cogs': 54420.0, '04-profit': 129840.0}\n",
      "vegetarian curry + king trumpet mushroom ramen : {'01-count': 8824, '02-revenue': 114712.0, '03-cogs': 61768.0, '04-profit': 92808.0}\n"
     ]
    }
   ],
   "source": [
    "# Loop through every row in the sales data\n",
    "for sale in sales_data:\n",
    "    \n",
    "    quantity = int(sale[3])\n",
    "    sales_item = sale[4]\n",
    "#Initialize the product report entry to 0 if not already in the dictionary\n",
    "    if report.get(sales_item)==None:\n",
    "        report[sales_item] = {\"01-count\": 0, \n",
    "                              \"02-revenue\": 0, \n",
    "                              \"03-cogs\": 0, \n",
    "                              \"04-profit\": 0}\n",
    "    \n",
    "# Get the menu_data details for the sale_item\n",
    "    menu = menu_data[sales_item]\n",
    "    \n",
    "# If sale item present in the menu_data, calculate the sale item's report\n",
    "    if menu!=None:\n",
    "        price = float(menu[2])\n",
    "        cost = float(menu[3])\n",
    "        profit = quantity * (price - cost) \n",
    "        report[sales_item][\"01-count\"] += quantity\n",
    "        report[sales_item][\"02-revenue\"] += price * quantity\n",
    "        report[sales_item][\"03-cogs\"] += cost * quantity\n",
    "        report[sales_item][\"04-profit\"] += profit * quantity\n",
    "    else:\n",
    "        print(f'{sales_item} does not contains data')\n",
    "\n",
    "\n",
    "# Print the aggregated product report\n",
    "for sales_item in report:\n",
    "    print(f'{sales_item} : {report[sales_item]}')\n"
   ]
  },
  {
   "cell_type": "code",
   "execution_count": 19,
   "metadata": {},
   "outputs": [],
   "source": [
    "# output file with metrics\n",
    "output_path = Path(\"PyRamen.txt\")\n"
   ]
  },
  {
   "cell_type": "code",
   "execution_count": 20,
   "metadata": {},
   "outputs": [],
   "source": [
    "with open(output_path, 'w') as file:\n",
    "    file.write(\"This is the financial report for PyRamen.\\n\")\n",
    "    for key in report:\n",
    "        file.write(f\"{key} {report[key]} \\n\")"
   ]
  },
  {
   "cell_type": "code",
   "execution_count": null,
   "metadata": {},
   "outputs": [],
   "source": []
  }
 ],
 "metadata": {
  "kernelspec": {
   "display_name": "Python 3",
   "language": "python",
   "name": "python3"
  },
  "language_info": {
   "codemirror_mode": {
    "name": "ipython",
    "version": 3
   },
   "file_extension": ".py",
   "mimetype": "text/x-python",
   "name": "python",
   "nbconvert_exporter": "python",
   "pygments_lexer": "ipython3",
   "version": "3.7.7"
  }
 },
 "nbformat": 4,
 "nbformat_minor": 4
}
